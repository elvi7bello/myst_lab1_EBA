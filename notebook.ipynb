{
 "cells": [
  {
   "cell_type": "code",
   "execution_count": null,
   "outputs": [],
   "source": [
    "<img src=https://www.unionjalisco.mx/sites/default/files/styles/galeria/public/field/image/iteso_3_1.jpg>"
   ],
   "metadata": {
    "collapsed": false,
    "pycharm": {
     "name": "#%%\n"
    }
   }
  },
  {
   "cell_type": "markdown",
   "source": [
    "<font color= #555555> <font size = 6> <p style='text-align: center;'> *Ingeniería Financiera* </font> </p>\n",
    "    \n",
    "<font color= #555555> <font size = 5> <p style='text-align: center;'> Microestructuras y Sistemas de Trading </font> </p>\n",
    "    \n",
    "<font color= #555555> <font size = 4> <p style='text-align: center;'> Elvira Bello Ávila </font> </p>"
   ],
   "metadata": {
    "collapsed": false
   }
  },
  {
   "cell_type": "markdown",
   "source": [
    "<font color= #555555> <font size = 5> Abstract </font>\n",
    "\n"
   ],
   "metadata": {
    "collapsed": false
   }
  },
  {
   "cell_type": "markdown",
   "source": [
    "<font color= #6B6B6B> <font size = 2>  Este documento fue elaborado por Elvira Bello Avila, como un trabajo parcial para la materia de Microestructura y Sistemas de Trading - ITE1731, la cual es parte del curriculum de la licenciatura en Ingeniería Financiera, ofertada por la universidad ITESO. En el presente trabajo se plantea la respuesta a la siguiente pregutna: ¿Qué estrategia de inversión propondrías si tu trabajo fuera administrar 1 Millón de pesos?</font>\n",
    "\n"
   ],
   "metadata": {
    "collapsed": false
   }
  },
  {
   "cell_type": "markdown",
   "source": [
    "\n",
    "<font color= #6B6B6B> <font size = 6> 0. Librerías y Dependencias </font>"
   ],
   "metadata": {
    "collapsed": false
   }
  },
  {
   "cell_type": "markdown",
   "source": [
    "<font color= #6B6B6B> <font size = 5> 0.1 Librerías </font> <font color= #555555>"
   ],
   "metadata": {
    "collapsed": false
   }
  },
  {
   "cell_type": "markdown",
   "source": [
    "<font color= #6B6B6B> <font size = 2> Para correr este notebook es necesario tener instaladas y/o en el archivo requirements.txt las siguientes librerías :\n",
    "\n",
    "-  Pandas>=1.1.1\n",
    "-  Numpy>=1.19.1\n",
    "-  Jupyter>=1.0.0\n",
    "-  yfinance>=0.1.54"
   ],
   "metadata": {
    "collapsed": false
   }
  },
  {
   "cell_type": "markdown",
   "source": [
    "<font color= #6B6B6B> <font size = 5> 0.2 Dependencias </font> <font color= #555555>"
   ],
   "metadata": {
    "collapsed": false
   }
  },
  {
   "cell_type": "markdown",
   "source": [
    "\n",
    "<font color= #6B6B6B> <font size = 2> Para correr este notebook es necesario contar con los siguientes archivos y dependencias externas:\n",
    "\n",
    "-  files/precios.csv : Precios históricos\n",
    "-  files/datos.txt : Otros datos históricos"
   ],
   "metadata": {
    "collapsed": false
   }
  },
  {
   "cell_type": "markdown",
   "source": [
    "<font color= #6B6B6B> <font size = 6> 1. Introducción </font>"
   ],
   "metadata": {
    "collapsed": false
   }
  },
  {
   "cell_type": "markdown",
   "source": [
    "</p> <font color= #6B6B6B> <font size = 2>  <p style='text-align: justify;'> En este documento se encontraran dos estrategias de inversión para 1 Millón de pesos de capital. Por un lado, puedes hacer una Inversión Pasiva del capital, comprando el 100% del capital de títulos de un ETF que replica al mercado de renta variable mexicano S&P/BMV IPC que es el NAFTRAC. Pero por otro lado, puedes hacer una Inversión Activa del capital, al crear un portafolio que tenga los mismos activos que el ETF y haciendo el rebalanceo por medio de un algoritmo en específico. "
   ],
   "metadata": {
    "collapsed": false
   }
  },
  {
   "cell_type": "markdown",
   "source": [
    "<font color= #6B6B6B> <font size = 2> <p style='text-align: justify;'> \n",
    "    Como parte del contexto financiero necesario para entender este proyecto, es necesario mencionar que los TRAC’s son certificados de participación que representan el patrimonio de fideicomisos de inversión y que incluyen Acciones u otros instrumentos que cotizan en la BMV. Los beneficios que tienen dichos certificados son la diversificación de portafolios y mitigar el riesgo. \n",
    "Los TRAC’s replican los índices de distintas Bolsas de Valores alrededor del mundo y para el caso de México, el iShares NAFTRAC, está indexado al IPC, lo que significa que incluye a las empresas más importantes del país. \n",
    "De acuerdo con lo anterior, el NAFTRAC busca resultados de inversión tanto en una administración pasiva, como en una activa. En ambas administraciones se busca obtener valor, así como tomar la volatilidad (fluctuación) como una oportunidad de éxito para mejorar la inversión. Muchos inversionistas diversifican el riesgo y al hacerlo, están invirtiendo en contra de la oportunidad que les puede ofrecer cada sector de la industria en lo individual. </p> "
   ],
   "metadata": {
    "collapsed": false
   }
  },
  {
   "cell_type": "markdown",
   "source": [
    "<font color= #6B6B6B> <font size = 2> <p style='text-align: justify;'> Por un lado, la administración pasiva es utilizada cuando el inversionista considera que el mercado es relativamente eficiente y será difícil superarlo, esto significa que estará conforme con igualar los rendimientos de algún índice o marca (benchmark) de acuerdo con el tipo de portafolio que elija. \n",
    "De esta forma, el inversionista pasivo no trata de ver qué acción en específico tiene las mejores perspectivas de rendimiento, por el contrario, trata de concentrar sus esfuerzos en realizar una buena asignación de activos que le permita obtener rendimientos de mercado en el largo plazo acordes con su necesidad de liquidez y tolerancia al riesgo. Dicha administración inicializa una posición y se mantiene fija hasta el final del periodo, sin realizar movimientos durante la posición.\n",
    "Por otro lado, en la administración activa, es todo lo contrario, puesto que los inversionistas consideran que si le pueden ganar al desempeño del mercado fácilmente. Se trata de encontrar el momento adecuado para comprar, vender y se busca reconocer oportunidades específicas de inversión. En esta sección se aplica un rebalanceo a las posiciones, es decir, si hay movimientos durante el periodo de la inversión, los cuales van considerando la tasa de interés, las comisiones por cada transacción y ajustando los activos que entran y salen de la posición. </p> "
   ],
   "metadata": {
    "collapsed": false
   }
  },
  {
   "cell_type": "markdown",
   "source": [
    "<font color= #6B6B6B> <font size = 2> "
   ],
   "metadata": {
    "collapsed": false
   }
  },
  {
   "cell_type": "markdown",
   "source": [
    "<font color= #6B6B6B> <font size = 6> 2. Objetivos </font>"
   ],
   "metadata": {
    "collapsed": false
   }
  },
  {
   "cell_type": "code",
   "execution_count": null,
   "outputs": [],
   "source": [
    "<font color= #6B6B6B> <font size = 2> <p style='text-align: justify;'> Los objetivos de este laboratorio fueron los siguientes: \n",
    "- Obtener una serie de tiempo para la inversión pasiva del capital del ETF que replica el mercado de renta variable en México S&P/BMV, conocido como NAFTRAC. \n",
    "- Obtener una serie de tiempo para la inversión activa del capital con el mismo ETF.\n",
    "- Calcular las medidas de atribución al desempeño del mercado, con el fin de comparar ambos tipos de administración de inversión. </p>\n"
   ],
   "metadata": {
    "collapsed": false,
    "pycharm": {
     "name": "#%%\n"
    }
   }
  },
  {
   "cell_type": "markdown",
   "source": [
    "<font color= #6B6B6B> <font size = 6> 3. Datos </font>"
   ],
   "metadata": {
    "collapsed": false
   }
  },
  {
   "cell_type": "code",
   "execution_count": null,
   "outputs": [],
   "source": [
    "<font color= #6B6B6B> <font size = 2> <p style='text-align: justify;'> Los datos que se utilizaron durante este proyecto fueron los precios de 32 activos que están dentro del NAFTRAC, los cuales fueron descargados desde la plataforma de Yahoo Finance en el periodo del 30-01-2018 al 24-08-2020. Al descargar los datos, fue necesario realizar una limpieza puesto que existían modificaciones en los Ticker de los activos como 'GFREGIOO.MX' a 'RA.MX’, 'MEXCHEM.MX' a 'ORBIA.MX' y LIVEPOLC.1.MX' a 'LIVEPOLC-1.MX. Asimismo, se hizo un ajuste de precios entre los archivos que se tenían con los descargados, ajustando las fechas de descarga. \n",
    "Los pesos que tenían los activos de; 'KOFL', 'KOFUBL', 'BSMXB' 'USD', 'MXN' se eliminaron de las posiciones históricas y fueron direccionados a la variable “CASH” por lo que se trabajó sólo con 32 activos. La selección de fechas se hizo a través de la teoría de conjuntos, la cual busca ordenar los datos y no repetirlos. \n",
    "\n",
    "Los datos fueron trabajados de distintas maneras, como DataFrame, listas y diccionarios, que facilitaron no sólo el algoritmo, sino la interpretación y visualización de lo que estaba pasando en el NAFTRAC. De igual manera, se trabajó con datos de tipo “String” y “Float”. </p>\n"
   ],
   "metadata": {
    "collapsed": false,
    "pycharm": {
     "name": "#%%\n"
    }
   }
  },
  {
   "cell_type": "markdown",
   "source": [
    "\n",
    "<font color= #6B6B6B> <font size = 6> 4. Procesos </font>"
   ],
   "metadata": {
    "collapsed": false
   }
  },
  {
   "cell_type": "code",
   "execution_count": null,
   "outputs": [],
   "source": [
    "<font color= #6B6B6B> <font size = 5> main.py </font> <font color= #555555>"
   ],
   "metadata": {
    "collapsed": false,
    "pycharm": {
     "name": "#%%\n"
    }
   }
  },
  {
   "cell_type": "code",
   "execution_count": null,
   "outputs": [],
   "source": [
    "#importando librerías\n",
    "import data as dt\n",
    "import yfinance as yf\n",
    "import functions as fn"
   ],
   "metadata": {
    "collapsed": false,
    "pycharm": {
     "name": "#%%\n"
    }
   }
  },
  {
   "cell_type": "code",
   "execution_count": null,
   "outputs": [],
   "source": [
    "#data.py\n",
    "#---------------------------------------------------------------------------------------------------------- Paso 1.1\n",
    "# -- Obtener la lista de los archivos a leer\n",
    "archivos = dt.archivos\n",
    "\n",
    "#mostrar los primeros 10 nombres de los archivos\n",
    "print(archivos[0:9])"
   ],
   "metadata": {
    "collapsed": false,
    "pycharm": {
     "name": "#%%\n"
    }
   }
  },
  {
   "cell_type": "code",
   "execution_count": null,
   "outputs": [],
   "source": [
    "#data.py\n",
    "#---------------------------------------------------------------------------------------------------------- Paso 1.2\n",
    "# -- Leer todos los archivos y gurdarlos en un diccionario\n",
    "data_archivos = dt.data_archivos\n",
    "\n",
    "#mostrar las primeras 10 llaves\n",
    "print(list(data_archivos.keys())[0:9])#functions.py"
   ],
   "metadata": {
    "collapsed": false,
    "pycharm": {
     "name": "#%%\n"
    }
   }
  },
  {
   "cell_type": "code",
   "execution_count": null,
   "outputs": [],
   "source": [
    "#---------------------------------------------------------------------------------------------------------- Paso 1.3\n",
    "# -- Construir el vector de fechas a partir del vector de nombre de archivos\n",
    "fechas = fn.f_fechas(p_archivos = archivos)\n",
    "\n",
    "#mostrar las primeras 10 columnas (con formato 1)\n",
    "print(fechas['i_fechas'][0:9])\n",
    "\n",
    "#mostrar las primeras 10 fechas (con formato 2)\n",
    "print(fechas['t_fechas'][0:9])"
   ],
   "metadata": {
    "collapsed": false,
    "pycharm": {
     "name": "#%%\n"
    }
   }
  },
  {
   "cell_type": "code",
   "execution_count": null,
   "outputs": [],
   "source": [
    "#functions.py\n",
    "#---------------------------------------------------------------------------------------------------------- Paso 1.4\n",
    "# -- Construir el vector de tickers utilizables en yahoo finance\n",
    "\n",
    "global_tickers = fn.f_tickers(p_archivos=archivos, p_data_archivos=data_archivos)\n",
    "\n",
    "#mostrar los tickers globales (10)\n",
    "print(global_tickers[0:9])"
   ],
   "metadata": {
    "collapsed": false,
    "pycharm": {
     "name": "#%%\n"
    }
   }
  },
  {
   "cell_type": "code",
   "execution_count": null,
   "outputs": [],
   "source": [
    "#functions.py\n",
    "#---------------------------------------------------------------------------------------------------------- Paso 1.5\n",
    "# -- Descargar y acomodar todos los precios historicos\n",
    "\n",
    "precios = fn.f_obtener_precios(p_tickers=global_tickers, p_fechas = fechas['i_fechas'])\n",
    "precios = precios ['Precios']\n",
    "\n",
    "#mostrar los primeros 10 precios\n",
    "print(precios.head(10))"
   ],
   "metadata": {
    "collapsed": false,
    "pycharm": {
     "name": "#%%\n"
    }
   }
  },
  {
   "cell_type": "code",
   "execution_count": null,
   "outputs": [],
   "source": [
    "#main.py\n",
    "#---------------------------------------------------------------------------------------------------------- Paso 1.6\n",
    "# -- Posicion inicial\n",
    "\n",
    "k = 1000000 #capital inicial\n",
    "c = 0.00125 #comision por operacion (0.125%)\n",
    "params = {'k': k, 'c':c, 'fecha_ini': '201'}\n",
    "\n",
    "pos_ini = fn.f_pos_i(p_data_archivos=data_archivos, p_arhivo_ini = dt.archivos[0],\n",
    "                     p_precios = precios, p_params=params)\n",
    "\n",
    "#mostrar dataframe con la posicion inicial (solo los primeros 10 renglones)\n",
    "print(pos_ini['pos_datos'].head(10))\n",
    "\n",
    "#mostrar el efectivo sobrante en la postura inicial\n",
    "print(pos_ini['pos_cash'])\n",
    "\n",
    "#mostrar el valor de postura inicial\n",
    "print(pos_ini['pos_value'])\n"
   ],
   "metadata": {
    "collapsed": false,
    "pycharm": {
     "name": "#%%\n"
    }
   }
  },
  {
   "cell_type": "code",
   "execution_count": null,
   "outputs": [],
   "source": [
    "#main.py\n",
    "#---------------------------------------------------------------------------------------------------------- Paso 1.7\n",
    "# -- Evolucion de la posicion (inversion pasiva)\n",
    "df_inv_pasiva = fn.f_pasiva(p_fechas = fechas, p_archivos=archivos, p_precios=precios, p_pos_ini = pos_ini,\n",
    "                            p_params = params)\n",
    "\n",
    "#mostrar el dataframe de la evolucion del capital (los primeros 10 renglones)\n",
    "print(df_inv_pasiva.head(10))"
   ],
   "metadata": {
    "collapsed": false,
    "pycharm": {
     "name": "#%%\n"
    }
   }
  },
  {
   "cell_type": "markdown",
   "source": [
    "<font color= #6B6B6B> <font size = 6> 5. Conclusiones </font>"
   ],
   "metadata": {
    "collapsed": false
   }
  },
  {
   "cell_type": "code",
   "execution_count": null,
   "outputs": [],
   "source": [
    "<font color= #6B6B6B> <font size = 2> <p style='text-align: justify;'> Tomar decisiones de inversión no es una tarea sencilla, requiere de mucho análisis estratégico, de información lo más actualizada posible y de la interpretación del mercado. Después de realizar un algoritmo que permitiera conocer cómo se va moviendo el mercado a través de la inversión pasiva se puede decir que invertir un capital de $1’000,000 en renta variable es para inversionistas con un perfil averso al riesgo, que sólo buscan una estabilidad en su inversión durante el periodo de tiempo deseado de manera conservadora. \n",
    "Más allá de elegir una posición u otra, es la capacidad de tener una buena gestión tanto pasiva como activa, ambas buscan obtener valor y es decisión de cada inversionista decidir la estrategia con la que va a operar. \n",
    "El Sharpe Ratio es una medida de desempeño que indica la mejor rentabilidad del fondo con relación a la cantidad de riesgo que se tomó durante la inversión. \n",
    "Finalmente, no es tan sencillo decir que la inversión activa es buena para unas cosas y la inversión pasiva es buena para otras, debido a que existen distintas ventajas para cada una ellas. </p>\n"
   ],
   "metadata": {
    "collapsed": false,
    "pycharm": {
     "name": "#%%\n"
    }
   }
  },
  {
   "cell_type": "code",
   "execution_count": null,
   "outputs": [],
   "source": [],
   "metadata": {
    "collapsed": false,
    "pycharm": {
     "name": "#%%\n"
    }
   }
  }
 ],
 "metadata": {
  "kernelspec": {
   "display_name": "Python 3",
   "language": "python",
   "name": "python3"
  },
  "language_info": {
   "codemirror_mode": {
    "name": "ipython",
    "version": 3
   },
   "file_extension": ".py",
   "mimetype": "text/x-python",
   "name": "python",
   "nbconvert_exporter": "python",
   "pygments_lexer": "ipython3",
   "version": "3.7.3"
  },
  "pycharm": {
   "stem_cell": {
    "cell_type": "raw",
    "source": [],
    "metadata": {
     "collapsed": false
    }
   }
  }
 },
 "nbformat": 4,
 "nbformat_minor": 1
}
